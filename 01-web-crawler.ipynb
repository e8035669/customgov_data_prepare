{
 "cells": [
  {
   "cell_type": "markdown",
   "id": "efbca54a",
   "metadata": {},
   "source": [
    "# 爬蟲程式介紹\n",
    "\n",
    "1. 寫爬蟲程式是一種蒐集大量資料的手段，讓程式快速尋訪網站的所有內容，我們再從中擷取想要的部分。\n",
    "2. 每個網站的設計不可能一樣，所以爬蟲程式的製作方式也是因網站而異。\n",
    "3. 網站多半都有防護措施，防止駭客癱瘓網頁或是盜取資料。爬蟲程式因為用程式去存取網站，當然也很有可能被網站認出是機器人，然後將你封鎖。\n"
   ]
  },
  {
   "cell_type": "markdown",
   "id": "95647694",
   "metadata": {},
   "source": [
    "## 範例：THE REPTILE DATABASE\n",
    "\n",
    "以下內容以THE REPTILE DATABASE http://www.reptile-database.org/ 這個網站來當作爬蟲的目標。此網站收錄許多爬蟲類的照片及物種資料，蒐集下來可以作為訓練資料。我們示範從中撈取所有 烏龜 的照片。\n",
    "\n",
    "\n",
    "首先先觀察網站，隨意搜尋一個烏龜，例如：豹紋陸龜(Stigmochelys pardalis)。觀察網頁內容、圖片呈現、網址組成。\n",
    "\n",
    "物種的照片會集中在網頁正中間，希望用程式可以直接抓出那塊照片的HTML tag。\n",
    "\n",
    "網址上可以看到網址參數包含屬名及種名，也就是說，修改那兩個參數就可以瀏覽不同物種的網頁。\n",
    "\n",
    "![img01](img/img01.png)"
   ]
  },
  {
   "cell_type": "markdown",
   "id": "27556a35",
   "metadata": {},
   "source": [
    "觀察首頁，首頁左方有個Data/downloads的連結。\n",
    "\n",
    "![img02](img/img02.png)"
   ]
  },
  {
   "cell_type": "markdown",
   "id": "015c67dc",
   "metadata": {},
   "source": [
    "發現可以在這邊下載到所有物種清單，是Excel格式\n",
    "\n",
    "![img03](img/img03.png)"
   ]
  },
  {
   "cell_type": "markdown",
   "id": "523697c0",
   "metadata": {},
   "source": [
    "通常網頁都有加javascript，js是在使用者端的瀏覽器裡執行的，可以製作一些網頁效果，或是延遲載入功能。但是如果今天是用程式來下載網頁的話，我們會下載到js的程式碼，但沒去執行js。\n",
    "\n",
    "所以我們要進一步用F12的功能，試著關掉javascipt，看這樣的網頁中是否仍然有烏龜照片。\n",
    "\n",
    "結果看到的網頁呈現果然不太一樣，原本中間類似相簿的內容變成了一列的圖片。\n",
    "\n",
    "![img04](img/img04.png)\n",
    "\n",
    "接著我們找出那列圖片部分的HTML，可以看到有一個`<div id=\"gallery\">`的tag中，裝著很多`<a>`的tag，裏頭有很多jpg的網址，這些似乎就是我們要的照片的網址。\n",
    "\n",
    "![img05](img/img05.png)"
   ]
  },
  {
   "cell_type": "code",
   "execution_count": null,
   "id": "74af8d23",
   "metadata": {},
   "outputs": [],
   "source": []
  },
  {
   "cell_type": "markdown",
   "id": "c606c095",
   "metadata": {},
   "source": [
    "我們需要用程式來解析出網頁中的圖片。\n",
    "\n",
    "在Python中常用`requests`套件送出網頁請求，`Beautiful Soup`可用來解析HTML。\n",
    "\n",
    "我們試著以這兩個套件來取得網頁，並取出網頁中的圖片。"
   ]
  },
  {
   "cell_type": "code",
   "execution_count": null,
   "id": "161fb13a",
   "metadata": {},
   "outputs": [],
   "source": [
    "# 缺少套件的話，用以下指令安裝套件\n",
    "# !pip install requests beautifulsoup4 lxml "
   ]
  },
  {
   "cell_type": "code",
   "execution_count": 2,
   "id": "0c24e8ea",
   "metadata": {},
   "outputs": [],
   "source": [
    "import os\n",
    "import requests\n",
    "from bs4 import BeautifulSoup"
   ]
  },
  {
   "cell_type": "code",
   "execution_count": 3,
   "id": "f97f7d18",
   "metadata": {},
   "outputs": [],
   "source": [
    "response = requests.get('https://reptile-database.reptarium.cz/species?genus=Stigmochelys&species=pardalis')\n",
    "soup = BeautifulSoup(response.text, \"lxml\")"
   ]
  },
  {
   "cell_type": "code",
   "execution_count": 4,
   "id": "11cd15b6",
   "metadata": {},
   "outputs": [],
   "source": [
    "#print(soup.prettify())"
   ]
  },
  {
   "cell_type": "code",
   "execution_count": 5,
   "id": "9f298a6f",
   "metadata": {},
   "outputs": [],
   "source": [
    "gallery = soup.find(\"div\", {\"id\": \"gallery\"})\n",
    "#gallery"
   ]
  },
  {
   "cell_type": "code",
   "execution_count": 6,
   "id": "e7d4cf4d",
   "metadata": {},
   "outputs": [],
   "source": [
    "imglist = gallery.find_all('a')\n",
    "#imglist"
   ]
  },
  {
   "cell_type": "code",
   "execution_count": 7,
   "id": "2f8c2a02",
   "metadata": {},
   "outputs": [
    {
     "name": "stdout",
     "output_type": "stream",
     "text": [
      "https://www.reptarium.cz/content/photo_rd_05/Stigmochelys-pardalis-03000033508_01.jpg\n",
      "https://www.reptarium.cz/content/photo_rd_00/Stigmochelys-pardalis-03000027735_01.jpg\n",
      "https://www.reptarium.cz/content/photo_rd_00/Stigmochelys-pardalis-03000027736_01.jpg\n"
     ]
    }
   ],
   "source": [
    "for i in imglist[:3]:\n",
    "    print(i.get('href'))"
   ]
  },
  {
   "cell_type": "markdown",
   "id": "f3970a9f",
   "metadata": {},
   "source": [
    "如此一來，我們能夠從網頁中取得所有圖片的下載連結\n"
   ]
  },
  {
   "cell_type": "code",
   "execution_count": null,
   "id": "fe19b325",
   "metadata": {},
   "outputs": [],
   "source": []
  },
  {
   "cell_type": "code",
   "execution_count": 8,
   "id": "6b8a1c23",
   "metadata": {},
   "outputs": [],
   "source": [
    "def get_species_url(genus: str, species: str) -> str:\n",
    "    '''取得某物種的網址'''\n",
    "    return 'https://reptile-database.reptarium.cz/species?genus={}&species={}'.format(genus, species)"
   ]
  },
  {
   "cell_type": "code",
   "execution_count": 9,
   "id": "4b815583",
   "metadata": {},
   "outputs": [],
   "source": [
    "def get_image_list(html: str) -> list:\n",
    "    '''解析HTML網頁，取得網頁中物種照片的URL'''\n",
    "    soup = BeautifulSoup(html, 'lxml')\n",
    "    gallery = soup.find(\"div\", {\"id\": \"gallery\"})\n",
    "    imglist = gallery.find_all('a')\n",
    "    imglist = [i.get('href') for i in imglist]\n",
    "    return imglist"
   ]
  },
  {
   "cell_type": "code",
   "execution_count": 10,
   "id": "9c4b08ac",
   "metadata": {},
   "outputs": [],
   "source": [
    "def download_file(url: str, path: str):\n",
    "    '''給予URL和儲存路徑，將檔案下載儲存'''\n",
    "    response = requests.get(url)\n",
    "    if response.status_code == 200:\n",
    "        with open(path, 'wb') as f:\n",
    "            f.write(response.content)\n",
    "    else:\n",
    "        print('Download', url, 'failed:', response.status_code, response.reason)"
   ]
  },
  {
   "cell_type": "code",
   "execution_count": 11,
   "id": "63de05d2",
   "metadata": {},
   "outputs": [],
   "source": [
    "def download_file_list(urls: str, directory: str, debug=False):\n",
    "    '''將URL列表下載，並儲存至指定的資料夾中'''\n",
    "    os.makedirs(directory, exist_ok=True)\n",
    "    for i, url in enumerate(urls):\n",
    "        path = os.path.join(directory, 'img{:03d}_{}'.format(i, os.path.basename(url)))\n",
    "        if debug:\n",
    "            print('Write path:', path)\n",
    "        download_file(url, path)"
   ]
  },
  {
   "cell_type": "code",
   "execution_count": 12,
   "id": "8f5c4efc",
   "metadata": {},
   "outputs": [],
   "source": [
    "def download_species(root_path: str, genus: str, species: str, debug=False):\n",
    "    '''下載某個物種的所有照片，儲存至硬碟中'''\n",
    "    if debug:\n",
    "        print('Download species:', genus, species)\n",
    "    url = get_species_url(genus, species)\n",
    "    response = requests.get(url)\n",
    "    imglist = get_image_list(response.text)\n",
    "    directory = os.path.join(root_path, '{}_{}'.format(genus, species))\n",
    "    download_file_list(imglist, directory, debug=debug)"
   ]
  },
  {
   "cell_type": "code",
   "execution_count": 13,
   "id": "f9d1b4a2",
   "metadata": {},
   "outputs": [
    {
     "name": "stdout",
     "output_type": "stream",
     "text": [
      "Download species: Stigmochelys pardalis\n",
      "Write path: dataset/Stigmochelys_pardalis/img000_Stigmochelys-pardalis-03000033508_01.jpg\n",
      "Write path: dataset/Stigmochelys_pardalis/img001_Stigmochelys-pardalis-03000027735_01.jpg\n",
      "Write path: dataset/Stigmochelys_pardalis/img002_Stigmochelys-pardalis-03000027736_01.jpg\n",
      "Write path: dataset/Stigmochelys_pardalis/img003_Stigmochelys-pardalis-03000028388_01.jpg\n",
      "Write path: dataset/Stigmochelys_pardalis/img004_Stigmochelys-pardalis-03000028389_01.jpg\n",
      "Write path: dataset/Stigmochelys_pardalis/img005_Stigmochelys-pardalis-03000028390_01.jpg\n",
      "Write path: dataset/Stigmochelys_pardalis/img006_Stigmochelys-pardalis-03000035428_01.jpg\n",
      "Write path: dataset/Stigmochelys_pardalis/img007_Stigmochelys-pardalis-03000048182_01.jpg\n",
      "Write path: dataset/Stigmochelys_pardalis/img008_0010.jpeg\n",
      "Write path: dataset/Stigmochelys_pardalis/img009_1494.jpeg\n",
      "Write path: dataset/Stigmochelys_pardalis/img010_0009.jpeg\n",
      "Write path: dataset/Stigmochelys_pardalis/img011_0072.jpeg\n",
      "Write path: dataset/Stigmochelys_pardalis/img012_0073.jpeg\n",
      "Write path: dataset/Stigmochelys_pardalis/img013_0126.jpeg\n",
      "Write path: dataset/Stigmochelys_pardalis/img014_0126.jpeg\n",
      "Write path: dataset/Stigmochelys_pardalis/img015_0127.jpeg\n",
      "Write path: dataset/Stigmochelys_pardalis/img016_0071.jpeg\n",
      "Write path: dataset/Stigmochelys_pardalis/img017_0072.jpeg\n",
      "Write path: dataset/Stigmochelys_pardalis/img018_1402.jpeg\n",
      "Write path: dataset/Stigmochelys_pardalis/img019_1403.jpeg\n"
     ]
    }
   ],
   "source": [
    "download_species('dataset', 'Stigmochelys', 'pardalis', debug=True)"
   ]
  },
  {
   "cell_type": "markdown",
   "id": "e5e24286",
   "metadata": {},
   "source": [
    "如此一來，我們能夠下載單一物種的所有圖片了，接下來如果有所有物種的清單，我們就可以爬到所有物種的照片了。\n",
    "\n",
    "剛剛有個網頁能夠下載一個Excel檔，他正是我們要的物種清單。而在python中，我們能夠用`pandas`來讀取該Excel檔的內容。"
   ]
  },
  {
   "cell_type": "code",
   "execution_count": 14,
   "id": "0911d0b9",
   "metadata": {},
   "outputs": [],
   "source": [
    "# !pip install pandas"
   ]
  },
  {
   "cell_type": "code",
   "execution_count": 15,
   "id": "02ec01fb",
   "metadata": {},
   "outputs": [],
   "source": [
    "import pandas as pd"
   ]
  },
  {
   "cell_type": "code",
   "execution_count": 16,
   "id": "6f01df7c",
   "metadata": {},
   "outputs": [],
   "source": [
    "excel_url = 'http://www.reptile-database.org/data/reptile_checklist_2022_03.xlsx'\n",
    "excel_name = os.path.basename(excel_url)\n",
    "download_file(excel_url, excel_name)"
   ]
  },
  {
   "cell_type": "code",
   "execution_count": 17,
   "id": "78e2eac1",
   "metadata": {},
   "outputs": [
    {
     "data": {
      "text/html": [
       "<div>\n",
       "<style scoped>\n",
       "    .dataframe tbody tr th:only-of-type {\n",
       "        vertical-align: middle;\n",
       "    }\n",
       "\n",
       "    .dataframe tbody tr th {\n",
       "        vertical-align: top;\n",
       "    }\n",
       "\n",
       "    .dataframe thead th {\n",
       "        text-align: right;\n",
       "    }\n",
       "</style>\n",
       "<table border=\"1\" class=\"dataframe\">\n",
       "  <thead>\n",
       "    <tr style=\"text-align: right;\">\n",
       "      <th></th>\n",
       "      <th>type_species</th>\n",
       "      <th>Species</th>\n",
       "      <th>Author</th>\n",
       "      <th>Subspecies</th>\n",
       "      <th>Order</th>\n",
       "      <th>Family</th>\n",
       "      <th>change</th>\n",
       "      <th>sp#</th>\n",
       "    </tr>\n",
       "  </thead>\n",
       "  <tbody>\n",
       "    <tr>\n",
       "      <th>0</th>\n",
       "      <td>NaN</td>\n",
       "      <td>Ablepharus alaicus</td>\n",
       "      <td>(ELPATJEVSKY 1901)</td>\n",
       "      <td>Ablepharus alaicus kucenkoi NIKOLSKY 1902\\nAbl...</td>\n",
       "      <td>Sauria</td>\n",
       "      <td>Scincidae</td>\n",
       "      <td>new genus (was: Asymblepharus)</td>\n",
       "      <td>11256</td>\n",
       "    </tr>\n",
       "    <tr>\n",
       "      <th>1</th>\n",
       "      <td>NaN</td>\n",
       "      <td>Ablepharus anatolicus</td>\n",
       "      <td>SCHMIDTLER 1997</td>\n",
       "      <td>NaN</td>\n",
       "      <td>Sauria</td>\n",
       "      <td>Scincidae</td>\n",
       "      <td>NaN</td>\n",
       "      <td>23791</td>\n",
       "    </tr>\n",
       "    <tr>\n",
       "      <th>2</th>\n",
       "      <td>NaN</td>\n",
       "      <td>Ablepharus bivittatus</td>\n",
       "      <td>(MENETRIES 1832)</td>\n",
       "      <td>NaN</td>\n",
       "      <td>Sauria</td>\n",
       "      <td>Scincidae</td>\n",
       "      <td>NaN</td>\n",
       "      <td>10001</td>\n",
       "    </tr>\n",
       "    <tr>\n",
       "      <th>3</th>\n",
       "      <td>NaN</td>\n",
       "      <td>Ablepharus budaki</td>\n",
       "      <td>GÖCMEN, KUMLUTAS &amp; TOSUNOGLU 1996</td>\n",
       "      <td>NaN</td>\n",
       "      <td>Sauria</td>\n",
       "      <td>Scincidae</td>\n",
       "      <td>NaN</td>\n",
       "      <td>10002</td>\n",
       "    </tr>\n",
       "    <tr>\n",
       "      <th>4</th>\n",
       "      <td>NaN</td>\n",
       "      <td>Ablepharus chernovi</td>\n",
       "      <td>DAREVSKY 1953</td>\n",
       "      <td>Ablepharus chernovi chernovi DAREVSKY 1953\\nAb...</td>\n",
       "      <td>Sauria</td>\n",
       "      <td>Scincidae</td>\n",
       "      <td>NaN</td>\n",
       "      <td>10003</td>\n",
       "    </tr>\n",
       "  </tbody>\n",
       "</table>\n",
       "</div>"
      ],
      "text/plain": [
       "  type_species                Species                             Author  \\\n",
       "0          NaN     Ablepharus alaicus                 (ELPATJEVSKY 1901)   \n",
       "1          NaN  Ablepharus anatolicus                    SCHMIDTLER 1997   \n",
       "2          NaN  Ablepharus bivittatus                   (MENETRIES 1832)   \n",
       "3          NaN      Ablepharus budaki  GÖCMEN, KUMLUTAS & TOSUNOGLU 1996   \n",
       "4          NaN    Ablepharus chernovi                      DAREVSKY 1953   \n",
       "\n",
       "                                          Subspecies   Order     Family  \\\n",
       "0  Ablepharus alaicus kucenkoi NIKOLSKY 1902\\nAbl...  Sauria  Scincidae   \n",
       "1                                                NaN  Sauria  Scincidae   \n",
       "2                                                NaN  Sauria  Scincidae   \n",
       "3                                                NaN  Sauria  Scincidae   \n",
       "4  Ablepharus chernovi chernovi DAREVSKY 1953\\nAb...  Sauria  Scincidae   \n",
       "\n",
       "                           change    sp#  \n",
       "0  new genus (was: Asymblepharus)  11256  \n",
       "1                             NaN  23791  \n",
       "2                             NaN  10001  \n",
       "3                             NaN  10002  \n",
       "4                             NaN  10003  "
      ]
     },
     "execution_count": 17,
     "metadata": {},
     "output_type": "execute_result"
    }
   ],
   "source": [
    "excel = pd.read_excel(excel_name)\n",
    "excel.head()"
   ]
  },
  {
   "cell_type": "code",
   "execution_count": 18,
   "id": "b6a1a0b5",
   "metadata": {},
   "outputs": [
    {
     "data": {
      "text/html": [
       "<div>\n",
       "<style scoped>\n",
       "    .dataframe tbody tr th:only-of-type {\n",
       "        vertical-align: middle;\n",
       "    }\n",
       "\n",
       "    .dataframe tbody tr th {\n",
       "        vertical-align: top;\n",
       "    }\n",
       "\n",
       "    .dataframe thead th {\n",
       "        text-align: right;\n",
       "    }\n",
       "</style>\n",
       "<table border=\"1\" class=\"dataframe\">\n",
       "  <thead>\n",
       "    <tr style=\"text-align: right;\">\n",
       "      <th></th>\n",
       "      <th>type_species</th>\n",
       "      <th>Species</th>\n",
       "      <th>Author</th>\n",
       "      <th>Subspecies</th>\n",
       "      <th>Order</th>\n",
       "      <th>Family</th>\n",
       "      <th>change</th>\n",
       "      <th>sp#</th>\n",
       "    </tr>\n",
       "  </thead>\n",
       "  <tbody>\n",
       "    <tr>\n",
       "      <th>71</th>\n",
       "      <td>NaN</td>\n",
       "      <td>Acanthochelys macrocephala</td>\n",
       "      <td>(RHODIN, MITTERMEIER &amp; MCMORRIS 1984)</td>\n",
       "      <td>NaN</td>\n",
       "      <td>Testudines</td>\n",
       "      <td>Chelidae</td>\n",
       "      <td>NaN</td>\n",
       "      <td>10047</td>\n",
       "    </tr>\n",
       "    <tr>\n",
       "      <th>72</th>\n",
       "      <td>NaN</td>\n",
       "      <td>Acanthochelys pallidipectoris</td>\n",
       "      <td>(FREIBERG 1945)</td>\n",
       "      <td>NaN</td>\n",
       "      <td>Testudines</td>\n",
       "      <td>Chelidae</td>\n",
       "      <td>NaN</td>\n",
       "      <td>10048</td>\n",
       "    </tr>\n",
       "    <tr>\n",
       "      <th>73</th>\n",
       "      <td>NaN</td>\n",
       "      <td>Acanthochelys radiolata</td>\n",
       "      <td>(MIKAN 1820)</td>\n",
       "      <td>NaN</td>\n",
       "      <td>Testudines</td>\n",
       "      <td>Chelidae</td>\n",
       "      <td>NaN</td>\n",
       "      <td>10049</td>\n",
       "    </tr>\n",
       "    <tr>\n",
       "      <th>74</th>\n",
       "      <td>x</td>\n",
       "      <td>Acanthochelys spixii</td>\n",
       "      <td>(DUMÉRIL &amp; BIBRON 1835)</td>\n",
       "      <td>NaN</td>\n",
       "      <td>Testudines</td>\n",
       "      <td>Chelidae</td>\n",
       "      <td>NaN</td>\n",
       "      <td>10050</td>\n",
       "    </tr>\n",
       "    <tr>\n",
       "      <th>203</th>\n",
       "      <td>x</td>\n",
       "      <td>Actinemys marmorata</td>\n",
       "      <td>(BAIRD &amp; GIRARD 1852)</td>\n",
       "      <td>NaN</td>\n",
       "      <td>Testudines</td>\n",
       "      <td>Emydidae</td>\n",
       "      <td>NaN</td>\n",
       "      <td>10147</td>\n",
       "    </tr>\n",
       "    <tr>\n",
       "      <th>...</th>\n",
       "      <td>...</td>\n",
       "      <td>...</td>\n",
       "      <td>...</td>\n",
       "      <td>...</td>\n",
       "      <td>...</td>\n",
       "      <td>...</td>\n",
       "      <td>...</td>\n",
       "      <td>...</td>\n",
       "    </tr>\n",
       "    <tr>\n",
       "      <th>10887</th>\n",
       "      <td>NaN</td>\n",
       "      <td>Trachemys terrapen</td>\n",
       "      <td>(BONNATERRE 1789)</td>\n",
       "      <td>NaN</td>\n",
       "      <td>Testudines</td>\n",
       "      <td>Emydidae</td>\n",
       "      <td>NaN</td>\n",
       "      <td>19328</td>\n",
       "    </tr>\n",
       "    <tr>\n",
       "      <th>10888</th>\n",
       "      <td>NaN</td>\n",
       "      <td>Trachemys venusta</td>\n",
       "      <td>(GRAY 1855)</td>\n",
       "      <td>Trachemys venusta venusta (GRAY 1855)\\nTrachem...</td>\n",
       "      <td>Testudines</td>\n",
       "      <td>Emydidae</td>\n",
       "      <td>NaN</td>\n",
       "      <td>19329</td>\n",
       "    </tr>\n",
       "    <tr>\n",
       "      <th>10889</th>\n",
       "      <td>NaN</td>\n",
       "      <td>Trachemys yaquia</td>\n",
       "      <td>(LEGLER &amp; WEBB 1970)</td>\n",
       "      <td>NaN</td>\n",
       "      <td>Testudines</td>\n",
       "      <td>Emydidae</td>\n",
       "      <td>NaN</td>\n",
       "      <td>19330</td>\n",
       "    </tr>\n",
       "    <tr>\n",
       "      <th>11145</th>\n",
       "      <td>x</td>\n",
       "      <td>Trionyx triunguis</td>\n",
       "      <td>(FORSKÅL 1775)</td>\n",
       "      <td>NaN</td>\n",
       "      <td>Testudines</td>\n",
       "      <td>Trionychidae</td>\n",
       "      <td>NaN</td>\n",
       "      <td>19565</td>\n",
       "    </tr>\n",
       "    <tr>\n",
       "      <th>11587</th>\n",
       "      <td>x</td>\n",
       "      <td>Vijayachelys silvatica</td>\n",
       "      <td>(HENDERSON 1912)</td>\n",
       "      <td>NaN</td>\n",
       "      <td>Testudines</td>\n",
       "      <td>Geoemydidae</td>\n",
       "      <td>NaN</td>\n",
       "      <td>19980</td>\n",
       "    </tr>\n",
       "  </tbody>\n",
       "</table>\n",
       "<p>356 rows × 8 columns</p>\n",
       "</div>"
      ],
      "text/plain": [
       "      type_species                        Species  \\\n",
       "71             NaN     Acanthochelys macrocephala   \n",
       "72             NaN  Acanthochelys pallidipectoris   \n",
       "73             NaN        Acanthochelys radiolata   \n",
       "74               x           Acanthochelys spixii   \n",
       "203              x            Actinemys marmorata   \n",
       "...            ...                            ...   \n",
       "10887          NaN             Trachemys terrapen   \n",
       "10888          NaN              Trachemys venusta   \n",
       "10889          NaN               Trachemys yaquia   \n",
       "11145            x              Trionyx triunguis   \n",
       "11587            x         Vijayachelys silvatica   \n",
       "\n",
       "                                      Author  \\\n",
       "71     (RHODIN, MITTERMEIER & MCMORRIS 1984)   \n",
       "72                           (FREIBERG 1945)   \n",
       "73                              (MIKAN 1820)   \n",
       "74                   (DUMÉRIL & BIBRON 1835)   \n",
       "203                    (BAIRD & GIRARD 1852)   \n",
       "...                                      ...   \n",
       "10887                      (BONNATERRE 1789)   \n",
       "10888                            (GRAY 1855)   \n",
       "10889                   (LEGLER & WEBB 1970)   \n",
       "11145                         (FORSKÅL 1775)   \n",
       "11587                       (HENDERSON 1912)   \n",
       "\n",
       "                                              Subspecies       Order  \\\n",
       "71                                                   NaN  Testudines   \n",
       "72                                                   NaN  Testudines   \n",
       "73                                                   NaN  Testudines   \n",
       "74                                                   NaN  Testudines   \n",
       "203                                                  NaN  Testudines   \n",
       "...                                                  ...         ...   \n",
       "10887                                                NaN  Testudines   \n",
       "10888  Trachemys venusta venusta (GRAY 1855)\\nTrachem...  Testudines   \n",
       "10889                                                NaN  Testudines   \n",
       "11145                                                NaN  Testudines   \n",
       "11587                                                NaN  Testudines   \n",
       "\n",
       "             Family change    sp#  \n",
       "71         Chelidae    NaN  10047  \n",
       "72         Chelidae    NaN  10048  \n",
       "73         Chelidae    NaN  10049  \n",
       "74         Chelidae    NaN  10050  \n",
       "203        Emydidae    NaN  10147  \n",
       "...             ...    ...    ...  \n",
       "10887      Emydidae    NaN  19328  \n",
       "10888      Emydidae    NaN  19329  \n",
       "10889      Emydidae    NaN  19330  \n",
       "11145  Trionychidae    NaN  19565  \n",
       "11587   Geoemydidae    NaN  19980  \n",
       "\n",
       "[356 rows x 8 columns]"
      ]
     },
     "execution_count": 18,
     "metadata": {},
     "output_type": "execute_result"
    }
   ],
   "source": [
    "# 過濾出所有烏龜類\n",
    "testudines = excel[excel['Order'] == 'Testudines']\n",
    "testudines"
   ]
  },
  {
   "cell_type": "code",
   "execution_count": 19,
   "id": "fc516220",
   "metadata": {},
   "outputs": [
    {
     "name": "stdout",
     "output_type": "stream",
     "text": [
      "['Acanthochelys macrocephala', 'Acanthochelys pallidipectoris', 'Acanthochelys radiolata', 'Acanthochelys spixii', 'Actinemys marmorata', 'Actinemys pallida', 'Aldabrachelys gigantea', 'Amyda cartilaginea', 'Amyda ornata', 'Apalone ferox']\n",
      "Count 356\n"
     ]
    }
   ],
   "source": [
    "testudines_list = list(testudines['Species'])\n",
    "print(testudines_list[:10])\n",
    "print('Count', len(testudines_list))"
   ]
  },
  {
   "cell_type": "markdown",
   "id": "d4f7e6b7",
   "metadata": {},
   "source": [
    "如此一來，我們可以從這個資料庫中過濾出所有烏龜類的學名，一共有356種。我們只要用for-loop去下載這356個物種，就可以載到很多照片了。"
   ]
  },
  {
   "cell_type": "code",
   "execution_count": 20,
   "id": "fabbd9dd",
   "metadata": {},
   "outputs": [],
   "source": [
    "# root_path = 'dataset'\n",
    "# for name in testudines_list:\n",
    "#     split = name.split(' ')\n",
    "#     genus = split[0]\n",
    "#     species = split[1]\n",
    "#     download_species(root_path, genus, species, debug=True)"
   ]
  },
  {
   "cell_type": "markdown",
   "id": "9b18a822",
   "metadata": {},
   "source": [
    "下載完成的話，我們把每個物種的照片放在各自的資料夾中，資料夾的名稱就是該物種的學名。\n",
    "\n",
    "對之後要訓練分類模型來說很方便，以資料夾的方式區別每個類別，資料夾名稱是該類別的類別名稱。\n",
    "\n",
    "```text\n",
    "dataset\n",
    "├── Acanthochelys_pallidipectoris\n",
    "│   └── img000_Acanthochelys-pallidipectoris-03000037284_01.jpg\n",
    "├── Acanthochelys_radiolata\n",
    "│   └── img000_Acanthochelys-radiolata-03000039563_01.jpg\n",
    "├── Acanthochelys_spixii\n",
    "│   ├── img000_Acanthochelys-spixii-03000034151_01.jpg\n",
    "│   ├── img001_Acanthochelys-spixii-03000034150_01.jpg\n",
    "│   └── img002_Acanthochelys-spixii-03000042193_01.jpg\n",
    "├── Amyda_cartilaginea\n",
    "│   ├── img000_Amyda-cartilaginea-03000029644_01.jpg\n",
    "│   └── img001_Amyda-cartilaginea-03000038612_01.jpg\n",
    "├── Apalone_ferox\n",
    "│   ├── img000_Apalone-ferox-03000029679_01.jpg\n",
    "│   ├── img001_Apalone-ferox-03000029680_01.jpg\n",
    "│   └── img002_Apalone-ferox-03000045330_01.jpg\n",
    "```"
   ]
  },
  {
   "cell_type": "code",
   "execution_count": null,
   "id": "33504403",
   "metadata": {},
   "outputs": [],
   "source": []
  }
 ],
 "metadata": {
  "kernelspec": {
   "display_name": "Python 3 (ipykernel)",
   "language": "python",
   "name": "python3"
  },
  "language_info": {
   "codemirror_mode": {
    "name": "ipython",
    "version": 3
   },
   "file_extension": ".py",
   "mimetype": "text/x-python",
   "name": "python",
   "nbconvert_exporter": "python",
   "pygments_lexer": "ipython3",
   "version": "3.8.12"
  }
 },
 "nbformat": 4,
 "nbformat_minor": 5
}
